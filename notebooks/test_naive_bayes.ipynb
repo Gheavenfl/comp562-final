{
 "cells": [
  {
   "cell_type": "code",
   "execution_count": 1,
   "metadata": {},
   "outputs": [
    {
     "name": "stdout",
     "output_type": "stream",
     "text": [
      "number of messages:  5572\n",
      "number of training mesaages:  4179\n",
      "number of validation messages:  1393\n"
     ]
    }
   ],
   "source": [
    "# import libraries\n",
    "import pandas as pd\n",
    "import random\n",
    "from sklearn.feature_extraction.text import CountVectorizer\n",
    "# read csv file, generate list and messages as seperate labels\n",
    "df = pd.read_csv ('spam.csv', encoding = \"ISO-8859-1\", usecols=[0, 1])\n",
    "labels = df['v1'].tolist()\n",
    "label_transform = {\"ham\": 0, 'spam': 1}\n",
    "labels = [label_transform[label] for label in labels]\n",
    "messages = df['v2'].tolist()\n",
    "\n",
    "# bag of words representation\n",
    "bow_vectorizer = CountVectorizer(stop_words='english')\n",
    "bow_messages = bow_vectorizer.fit_transform(messages).todense()\n",
    "bow_messages = [b.tolist()[0] for b in bow_messages]\n",
    "\n",
    "# seperate dataset into training set and validation set\n",
    "all_indexs = [i for i in range(len(labels))]\n",
    "\n",
    "# choose 75% of messages \n",
    "training_indexs = random.sample(all_indexs, k=int(len(labels)*0.75))\n",
    "validation_indexs = list(set(all_indexs) - set(training_indexs))\n",
    "training_labels = [labels[i] for i in training_indexs]\n",
    "training_messages = [bow_messages[i] for i in training_indexs]\n",
    "validation_labels = [labels[i] for i in validation_indexs]\n",
    "validation_messages = [bow_messages[i] for i in validation_indexs]\n",
    "\n",
    "print('number of messages: ', len(bow_messages))\n",
    "print('number of training mesaages: ', len(training_messages))\n",
    "print('number of validation messages: ', len(validation_messages))"
   ]
  },
  {
   "cell_type": "code",
   "execution_count": 2,
   "metadata": {},
   "outputs": [],
   "source": [
    "# naive bayes\n",
    "# assum the last column is a model\n",
    "import math\n",
    "\n",
    "def trainModel(train_set, train_label):\n",
    "    spam_set = [train_set[i] for i in range(len(train_set)) if train_label[i] == 1]\n",
    "    ham_set = [train_set[i] for i in range(len(train_set)) if train_label[i] == 0]\n",
    "    spam_prob = len(spam_set) / float(len(train_set)) \n",
    "    ham_prob = 1.0-spam_prob\n",
    "    spam_set_mean, spam_set_stdev = trainSet(spam_set)\n",
    "    ham_set_mean, ham_set_stdev = trainSet(ham_set)\n",
    "    return (spam_set_mean, spam_set_stdev, ham_set_mean, ham_set_stdev, spam_prob, ham_prob)\n",
    "    \n",
    "def mean(data):\n",
    "    return sum(data)/float(len(data))\n",
    "\n",
    "def stdev(data):\n",
    "    avg = mean(data)\n",
    "    variance = sum([(x-avg)**2 for x in data]) / float(len(data)-1)\n",
    "    return math.sqrt(variance)\n",
    "\n",
    "def logGaussianProbability(x, mean, stdev):\n",
    "    if stdev == .0:\n",
    "        stdev = 0.01\n",
    "    temp = -((x-mean)**2 / (2 * stdev**2 ))\n",
    "    return temp-math.log(math.sqrt(2 * math.pi) * stdev)\n",
    "    \n",
    "def trainSet(s):\n",
    "    set_mean = []\n",
    "    set_stdev = []\n",
    "    for i in range(len(s[0])):\n",
    "        # note that the last column is label\n",
    "        column = [d[i] for d in s]\n",
    "        me = mean(column)\n",
    "        st = stdev(column)\n",
    "        set_mean.append(me)\n",
    "        set_stdev.append(st)\n",
    "    return (set_mean, set_stdev)\n",
    "\n",
    "def probability(d, set_mean, set_stdev, prob):\n",
    "    # make a single prediction\n",
    "    prob = math.log(prob)\n",
    "    for i in range(len(d)):\n",
    "        mean = set_mean[i]\n",
    "        stdev = set_stdev[i]\n",
    "        prob += logGaussianProbability(d[i], mean, stdev)\n",
    "    return prob\n",
    "        \n",
    "def predictions(data, spam_set_mean, spam_set_stdev, ham_set_mean, ham_set_stdev, spam_prob, ham_prob):\n",
    "    # assume each row is a set of data\n",
    "    re = [] # 0->ham, 1->spam\n",
    "    for d in data:\n",
    "        prob1 = probability(d, spam_set_mean, spam_set_stdev, spam_prob)\n",
    "        prob2 = probability(d, ham_set_mean, ham_set_stdev, ham_prob)\n",
    "        if prob1 >= prob2:\n",
    "            re.append(1)\n",
    "        else:\n",
    "            re.append(0)\n",
    "    return re"
   ]
  },
  {
   "cell_type": "code",
   "execution_count": 3,
   "metadata": {},
   "outputs": [
    {
     "name": "stdout",
     "output_type": "stream",
     "text": [
      "0.1349605168700646\n",
      "0.8650394831299354\n"
     ]
    }
   ],
   "source": [
    "spam_set_mean, spam_set_stdev, ham_set_mean, ham_set_stdev, spam_prob, ham_prob = trainModel(training_messages, training_labels)\n",
    "print(spam_prob)\n",
    "print(ham_prob)"
   ]
  },
  {
   "cell_type": "code",
   "execution_count": 81,
   "metadata": {},
   "outputs": [
    {
     "name": "stdout",
     "output_type": "stream",
     "text": [
      "8404\n",
      "8404\n",
      "8404\n"
     ]
    }
   ],
   "source": [
    "print(len(training_messages[0]))\n",
    "print(len(validation_messages[0]))\n",
    "print(len(spam_set_mean))"
   ]
  },
  {
   "cell_type": "code",
   "execution_count": 84,
   "metadata": {},
   "outputs": [
    {
     "name": "stdout",
     "output_type": "stream",
     "text": [
      "1393\n",
      "1393\n"
     ]
    }
   ],
   "source": [
    "preds = predictions(validation_messages, spam_set_mean, spam_set_stdev, ham_set_mean, ham_set_stdev, spam_prob, ham_prob)\n",
    "print(len(validation_messages))\n",
    "print(len(preds))"
   ]
  },
  {
   "cell_type": "code",
   "execution_count": 87,
   "metadata": {},
   "outputs": [
    {
     "name": "stdout",
     "output_type": "stream",
     "text": [
      "160\n",
      "[(21, 1, 0), (24, 0, 1), (27, 0, 1), (40, 0, 1), (42, 0, 1), (54, 0, 1), (80, 0, 1), (107, 0, 1), (109, 0, 1), (114, 0, 1), (133, 0, 1), (150, 0, 1), (156, 0, 1), (193, 0, 1), (202, 0, 1), (215, 0, 1), (242, 0, 1), (253, 0, 1), (294, 0, 1), (321, 0, 1), (323, 0, 1), (327, 0, 1), (332, 0, 1), (347, 0, 1), (355, 0, 1), (367, 1, 0), (380, 1, 0), (383, 0, 1), (398, 0, 1), (403, 0, 1), (411, 0, 1), (413, 0, 1), (421, 0, 1), (431, 0, 1), (432, 0, 1), (433, 0, 1), (436, 0, 1), (437, 0, 1), (442, 0, 1), (453, 0, 1), (458, 0, 1), (472, 0, 1), (477, 0, 1), (487, 0, 1), (495, 0, 1), (497, 0, 1), (509, 0, 1), (525, 0, 1), (527, 0, 1), (528, 0, 1), (532, 0, 1), (535, 0, 1), (537, 0, 1), (542, 0, 1), (551, 0, 1), (562, 0, 1), (568, 0, 1), (575, 0, 1), (586, 0, 1), (590, 0, 1), (592, 0, 1), (602, 0, 1), (620, 0, 1), (628, 0, 1), (631, 0, 1), (646, 0, 1), (649, 0, 1), (658, 0, 1), (665, 0, 1), (668, 0, 1), (669, 1, 0), (670, 0, 1), (672, 0, 1), (676, 0, 1), (678, 1, 0), (701, 0, 1), (704, 0, 1), (708, 0, 1), (717, 0, 1), (722, 0, 1), (726, 0, 1), (735, 0, 1), (736, 0, 1), (747, 0, 1), (758, 0, 1), (760, 0, 1), (783, 0, 1), (785, 0, 1), (799, 0, 1), (802, 0, 1), (803, 0, 1), (807, 0, 1), (814, 0, 1), (821, 0, 1), (830, 1, 0), (832, 0, 1), (841, 0, 1), (853, 0, 1), (870, 0, 1), (908, 0, 1), (915, 0, 1), (934, 0, 1), (949, 0, 1), (957, 0, 1), (965, 0, 1), (973, 0, 1), (981, 0, 1), (983, 0, 1), (988, 0, 1), (991, 0, 1), (992, 0, 1), (996, 0, 1), (1001, 0, 1), (1037, 0, 1), (1040, 1, 0), (1041, 0, 1), (1043, 0, 1), (1045, 0, 1), (1052, 1, 0), (1055, 0, 1), (1057, 0, 1), (1062, 0, 1), (1064, 0, 1), (1066, 0, 1), (1081, 0, 1), (1082, 0, 1), (1093, 0, 1), (1096, 0, 1), (1098, 0, 1), (1116, 0, 1), (1138, 0, 1), (1141, 0, 1), (1149, 0, 1), (1164, 0, 1), (1170, 0, 1), (1176, 0, 1), (1202, 0, 1), (1215, 0, 1), (1216, 0, 1), (1223, 0, 1), (1229, 0, 1), (1230, 1, 0), (1231, 0, 1), (1232, 0, 1), (1239, 1, 0), (1254, 0, 1), (1256, 0, 1), (1263, 0, 1), (1277, 0, 1), (1286, 0, 1), (1289, 0, 1), (1297, 0, 1), (1302, 0, 1), (1328, 0, 1), (1345, 0, 1), (1347, 1, 0), (1354, 0, 1), (1374, 0, 1), (1381, 0, 1), (1385, 0, 1)]\n"
     ]
    }
   ],
   "source": [
    "false_pred = []\n",
    "for i in range(len(validation_labels)):\n",
    "    if validation_labels[i] != preds[i]:\n",
    "        false_pred.append((i, validation_labels[i], preds[i]))\n",
    "print(len(false_pred))\n",
    "print(false_pred)"
   ]
  },
  {
   "cell_type": "code",
   "execution_count": null,
   "metadata": {},
   "outputs": [],
   "source": []
  }
 ],
 "metadata": {
  "kernelspec": {
   "display_name": "Python 3",
   "language": "python",
   "name": "python3"
  },
  "language_info": {
   "codemirror_mode": {
    "name": "ipython",
    "version": 3
   },
   "file_extension": ".py",
   "mimetype": "text/x-python",
   "name": "python",
   "nbconvert_exporter": "python",
   "pygments_lexer": "ipython3",
   "version": "3.8.3"
  }
 },
 "nbformat": 4,
 "nbformat_minor": 4
}
