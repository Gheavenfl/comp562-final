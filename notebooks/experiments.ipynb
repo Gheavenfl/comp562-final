{
 "cells": [
  {
   "cell_type": "code",
   "execution_count": 1,
   "metadata": {},
   "outputs": [],
   "source": [
    "from data_processing import fourFolds as ff\n",
    "\n",
    "folds = ff()"
   ]
  },
  {
   "cell_type": "code",
   "execution_count": 2,
   "metadata": {},
   "outputs": [],
   "source": [
    "import naive_bayes as nb "
   ]
  },
  {
   "cell_type": "code",
   "execution_count": 3,
   "metadata": {},
   "outputs": [],
   "source": [
    "from train_and_predict import train_and_predict_by_fold as tpbf"
   ]
  },
  {
   "cell_type": "code",
   "execution_count": 57,
   "metadata": {},
   "outputs": [],
   "source": [
    "pred_by_fold0 = tpbf(folds, nb.trainModel, nb.predictions)"
   ]
  },
  {
   "cell_type": "code",
   "execution_count": 59,
   "metadata": {},
   "outputs": [],
   "source": [
    "false_pred_by_fold = []\n",
    "for i, pred in enumerate(pred_by_fold0):\n",
    "    false_pred = []\n",
    "    for j in range(len(pred)):\n",
    "        if pred[j] != folds[i][3][j]:\n",
    "            false_pred.append((j, pred[j], folds[i][3][j]))\n",
    "    false_pred_by_fold.append(false_pred)"
   ]
  },
  {
   "cell_type": "code",
   "execution_count": 60,
   "metadata": {},
   "outputs": [
    {
     "name": "stdout",
     "output_type": "stream",
     "text": [
      "136\n",
      "169\n",
      "156\n",
      "149\n"
     ]
    }
   ],
   "source": [
    "for false_pred in false_pred_by_fold:\n",
    "    print(len(false_pred))"
   ]
  },
  {
   "cell_type": "code",
   "execution_count": null,
   "metadata": {},
   "outputs": [],
   "source": [
    "print(len(folds[0][3]))\n",
    "print(len(pred_by_fold[0]))"
   ]
  },
  {
   "cell_type": "code",
   "execution_count": 6,
   "metadata": {},
   "outputs": [
    {
     "ename": "NameError",
     "evalue": "name 'pred_by_fold0' is not defined",
     "output_type": "error",
     "traceback": [
      "\u001b[1;31m---------------------------------------------------------------------------\u001b[0m",
      "\u001b[1;31mNameError\u001b[0m                                 Traceback (most recent call last)",
      "\u001b[1;32m<ipython-input-6-3640c227282b>\u001b[0m in \u001b[0;36m<module>\u001b[1;34m\u001b[0m\n\u001b[0;32m     38\u001b[0m     \u001b[0mplt\u001b[0m\u001b[1;33m.\u001b[0m\u001b[0msavefig\u001b[0m\u001b[1;33m(\u001b[0m\u001b[1;34m\"confusion_matrix_for_\"\u001b[0m \u001b[1;33m+\u001b[0m \u001b[0mname\u001b[0m \u001b[1;33m+\u001b[0m \u001b[1;34m\".png\"\u001b[0m\u001b[1;33m,\u001b[0m \u001b[0mbbox_inches\u001b[0m \u001b[1;33m=\u001b[0m \u001b[1;34m'tight'\u001b[0m\u001b[1;33m)\u001b[0m\u001b[1;33m\u001b[0m\u001b[1;33m\u001b[0m\u001b[0m\n\u001b[0;32m     39\u001b[0m \u001b[1;33m\u001b[0m\u001b[0m\n\u001b[1;32m---> 40\u001b[1;33m \u001b[0mcnf_matrix\u001b[0m \u001b[1;33m=\u001b[0m \u001b[0mconfusion_matrix\u001b[0m\u001b[1;33m(\u001b[0m\u001b[0mfolds\u001b[0m\u001b[1;33m[\u001b[0m\u001b[1;36m2\u001b[0m\u001b[1;33m]\u001b[0m\u001b[1;33m[\u001b[0m\u001b[1;36m3\u001b[0m\u001b[1;33m]\u001b[0m\u001b[1;33m,\u001b[0m \u001b[0mpred_by_fold0\u001b[0m\u001b[1;33m[\u001b[0m\u001b[1;36m2\u001b[0m\u001b[1;33m]\u001b[0m\u001b[1;33m)\u001b[0m\u001b[1;33m\u001b[0m\u001b[1;33m\u001b[0m\u001b[0m\n\u001b[0m\u001b[0;32m     41\u001b[0m plot_confusion_matrix(\"naive_bayes_fold_3\", cnf_matrix, ['ham', 'spam'],\n\u001b[0;32m     42\u001b[0m                       title='Confusion matrix, without normalization')\n",
      "\u001b[1;31mNameError\u001b[0m: name 'pred_by_fold0' is not defined"
     ]
    }
   ],
   "source": [
    "from sklearn.metrics import confusion_matrix\n",
    "import numpy as np\n",
    "import itertools\n",
    "import matplotlib.pyplot as plt\n",
    "%matplotlib inline\n",
    "def plot_confusion_matrix(name, cm, classes,\n",
    "                          normalize=False,\n",
    "                          title='Confusion matrix',\n",
    "                          cmap=plt.cm.Blues):\n",
    "    \"\"\"\n",
    "    This function prints and plots the confusion matrix.\n",
    "    Normalization can be applied by setting `normalize=True`.\n",
    "    \"\"\"\n",
    "    plt.imshow(cm, interpolation='nearest', cmap=cmap)\n",
    "    plt.title(title)\n",
    "    plt.colorbar()\n",
    "    tick_marks = np.arange(len(classes))\n",
    "    plt.xticks(tick_marks, classes, rotation=45, rotation_mode='anchor', ha = 'right')\n",
    "    plt.yticks(tick_marks, classes)\n",
    "\n",
    "    if normalize:\n",
    "        cm = cm.astype('float') / cm.sum(axis=1)[:, np.newaxis]\n",
    "        print(\"Normalized confusion matrix\")\n",
    "    else:\n",
    "        print('Confusion matrix, without normalization')\n",
    "\n",
    "    print(cm)\n",
    "\n",
    "    thresh = cm.max() / 2.\n",
    "    for i, j in itertools.product(range(cm.shape[0]), range(cm.shape[1])):\n",
    "        plt.text(j, i, cm[i, j],\n",
    "                 horizontalalignment=\"center\",\n",
    "                 color=\"white\" if cm[i, j] > thresh else \"black\")\n",
    "\n",
    "    plt.ylabel('True label')\n",
    "    plt.xlabel('Predicted label')\n",
    "#     plt.show()\n",
    "    plt.savefig(\"confusion_matrix_for_\" + name + \".png\", bbox_inches = 'tight')\n",
    "    \n",
    "cnf_matrix = confusion_matrix(folds[2][3], pred_by_fold0[2])\n",
    "plot_confusion_matrix(\"naive_bayes_fold_3\", cnf_matrix, ['ham', 'spam'],\n",
    "                      title='Confusion matrix, without normalization')"
   ]
  },
  {
   "cell_type": "code",
   "execution_count": 4,
   "metadata": {},
   "outputs": [],
   "source": [
    "import random_forest as rf"
   ]
  },
  {
   "cell_type": "code",
   "execution_count": 17,
   "metadata": {},
   "outputs": [],
   "source": [
    "# 1000 1000 error rate: 0.09547738693467338\n",
    "pred_by_fold1 = tpbf(folds, rf.train_model, rf.predictions, (2, 20, 10, 1000, 1000))"
   ]
  },
  {
   "cell_type": "code",
   "execution_count": 10,
   "metadata": {},
   "outputs": [],
   "source": [
    "# 1000 2000 error rate: 0.09368269921033741\n",
    "pred_by_fold2 = tpbf(folds, rf.train_model, rf.predictions, (2, 20, 10, 1000, 2000))"
   ]
  },
  {
   "cell_type": "code",
   "execution_count": 14,
   "metadata": {},
   "outputs": [],
   "source": [
    "# 1000 3000 error rate: 0.08417085427135677\n",
    "pred_by_fold3 = tpbf(folds, rf.train_model, rf.predictions, (2, 20, 10, 1000, 3000))"
   ]
  },
  {
   "cell_type": "code",
   "execution_count": 16,
   "metadata": {},
   "outputs": [],
   "source": [
    "# 2000 1000 error rate: 0.0674802584350323\n",
    "pred_by_fold4 = tpbf(folds, rf.train_model, rf.predictions, (2, 20, 10, 2000, 1000))"
   ]
  },
  {
   "cell_type": "code",
   "execution_count": 18,
   "metadata": {},
   "outputs": [],
   "source": [
    "# 2000 2000 error rate: 0.06281407035175879\n",
    "pred_by_fold5 = tpbf(folds, rf.train_model, rf.predictions, (2, 20, 10, 2000, 2000))"
   ]
  },
  {
   "cell_type": "code",
   "execution_count": 20,
   "metadata": {},
   "outputs": [],
   "source": [
    "# 2000 3000 error rate: 0.05778894472361809\n",
    "pred_by_fold6 = tpbf(folds, rf.train_model, rf.predictions, (2, 20, 10, 2000, 3000))"
   ]
  },
  {
   "cell_type": "code",
   "execution_count": 22,
   "metadata": {},
   "outputs": [],
   "source": [
    "# 3000 1000 error rate: 0.05240488155061019\n",
    "pred_by_fold7 = tpbf(folds, rf.train_model, rf.predictions, (2, 20, 10, 3000, 1000))"
   ]
  },
  {
   "cell_type": "code",
   "execution_count": 24,
   "metadata": {},
   "outputs": [],
   "source": [
    "# 3000 2000 error rate: 0.04953338119167265\n",
    "pred_by_fold8 = tpbf(folds, rf.train_model, rf.predictions, (2, 20, 10, 3000, 2000))"
   ]
  },
  {
   "cell_type": "code",
   "execution_count": 26,
   "metadata": {},
   "outputs": [],
   "source": [
    "# 3000 3000 error rate: 0.04773869346733669\n",
    "pred_by_fold9 = tpbf(folds, rf.train_model, rf.predictions, (2, 20, 10, 3000, 3000))"
   ]
  },
  {
   "cell_type": "code",
   "execution_count": 66,
   "metadata": {},
   "outputs": [],
   "source": [
    "# 3000 1000 20 error rate: 0.05078966259870783\n",
    "pred_by_fold10 = tpbf(folds, rf.train_model, rf.predictions, (2, 20, 20, 3000, 1000))"
   ]
  },
  {
   "cell_type": "code",
   "execution_count": 8,
   "metadata": {},
   "outputs": [],
   "source": [
    "# 3000 1000 50 error rate: 0.04325197415649677\n",
    "pred_by_fold11 = tpbf(folds, rf.train_model, rf.predictions, (2, 20, 50, 3000, 1000))"
   ]
  },
  {
   "cell_type": "code",
   "execution_count": null,
   "metadata": {},
   "outputs": [],
   "source": []
  },
  {
   "cell_type": "code",
   "execution_count": 10,
   "metadata": {},
   "outputs": [],
   "source": [
    "def evaluate4Fold(pred_by_fold, folds):\n",
    "    false_pred_by_fold = []\n",
    "    error_rate = 0.0\n",
    "    for i, pred in enumerate(pred_by_fold):\n",
    "        false_pred = []\n",
    "        for j in range(len(pred)):\n",
    "            if pred[j] != folds[i][3][j]:\n",
    "                false_pred.append((j, pred[j], folds[i][3][j]))\n",
    "        error_rate += float(len(false_pred))/len(pred)\n",
    "        false_pred_by_fold.append(false_pred)\n",
    "    error_rate = error_rate / 4.0\n",
    "    return (error_rate, false_pred_by_fold)\n"
   ]
  },
  {
   "cell_type": "code",
   "execution_count": 12,
   "metadata": {},
   "outputs": [
    {
     "name": "stdout",
     "output_type": "stream",
     "text": [
      "0.09547738693467338\n"
     ]
    }
   ],
   "source": [
    "(error_rate, errors) = evaluate4Fold(pred_by_fold1, folds)\n",
    "print(error_rate)"
   ]
  },
  {
   "cell_type": "code",
   "execution_count": 13,
   "metadata": {},
   "outputs": [
    {
     "name": "stdout",
     "output_type": "stream",
     "text": [
      "0.09368269921033741\n"
     ]
    }
   ],
   "source": [
    "(error_rate, errors) = evaluate4Fold(pred_by_fold2, folds)\n",
    "print(error_rate)"
   ]
  },
  {
   "cell_type": "code",
   "execution_count": 15,
   "metadata": {},
   "outputs": [
    {
     "name": "stdout",
     "output_type": "stream",
     "text": [
      "0.08417085427135677\n"
     ]
    }
   ],
   "source": [
    "(error_rate, errors) = evaluate4Fold(pred_by_fold3, folds)\n",
    "print(error_rate)"
   ]
  },
  {
   "cell_type": "code",
   "execution_count": 17,
   "metadata": {},
   "outputs": [
    {
     "name": "stdout",
     "output_type": "stream",
     "text": [
      "0.0674802584350323\n"
     ]
    }
   ],
   "source": [
    "(error_rate, errors) = evaluate4Fold(pred_by_fold4, folds)\n",
    "print(error_rate)"
   ]
  },
  {
   "cell_type": "code",
   "execution_count": 19,
   "metadata": {},
   "outputs": [
    {
     "name": "stdout",
     "output_type": "stream",
     "text": [
      "0.06281407035175879\n"
     ]
    }
   ],
   "source": [
    "(error_rate, errors) = evaluate4Fold(pred_by_fold5, folds)\n",
    "print(error_rate)"
   ]
  },
  {
   "cell_type": "code",
   "execution_count": 21,
   "metadata": {},
   "outputs": [
    {
     "name": "stdout",
     "output_type": "stream",
     "text": [
      "0.05778894472361809\n"
     ]
    }
   ],
   "source": [
    "(error_rate, errors) = evaluate4Fold(pred_by_fold6, folds)\n",
    "print(error_rate)"
   ]
  },
  {
   "cell_type": "code",
   "execution_count": 23,
   "metadata": {},
   "outputs": [
    {
     "name": "stdout",
     "output_type": "stream",
     "text": [
      "0.05240488155061019\n"
     ]
    }
   ],
   "source": [
    "(error_rate, errors) = evaluate4Fold(pred_by_fold7, folds)\n",
    "print(error_rate)"
   ]
  },
  {
   "cell_type": "code",
   "execution_count": 25,
   "metadata": {},
   "outputs": [
    {
     "name": "stdout",
     "output_type": "stream",
     "text": [
      "0.04953338119167265\n"
     ]
    }
   ],
   "source": [
    "(error_rate, errors) = evaluate4Fold(pred_by_fold8, folds)\n",
    "print(error_rate)"
   ]
  },
  {
   "cell_type": "code",
   "execution_count": 27,
   "metadata": {},
   "outputs": [
    {
     "name": "stdout",
     "output_type": "stream",
     "text": [
      "0.04773869346733669\n"
     ]
    }
   ],
   "source": [
    "(error_rate, errors) = evaluate4Fold(pred_by_fold9, folds)\n",
    "print(error_rate)"
   ]
  },
  {
   "cell_type": "code",
   "execution_count": 55,
   "metadata": {},
   "outputs": [
    {
     "name": "stdout",
     "output_type": "stream",
     "text": [
      "[[0.0954, 0.0936, 0.0841], [0.0674, 0.0628, 0.0577], [0.0524, 0.0495, 0.0477]]\n"
     ]
    },
    {
     "data": {
      "image/png": "[encoded data removed]",
      "text/plain": [
       "<Figure size 432x288 with 1 Axes>"
      ]
     },
     "metadata": {
      "needs_background": "light"
     },
     "output_type": "display_data"
    }
   ],
   "source": [
    "\n",
    "cm = [[0.0954, 0.0936, 0.0841], \n",
    "     [0.0674, 0.0628, 0.0577],\n",
    "     [0.0524, 0.0495, 0.0477]]\n",
    "plt.imshow(cm, cmap=plt.cm.Blues)\n",
    "plt.title(\"Error Rate for Hyperparameter Combinations\")\n",
    "# plt.colorbar()\n",
    "classes = ['1000', '2000', '3000']\n",
    "# plt.xticks(tick_marks, classes, rotation=45, rotation_mode='anchor', ha = 'right')\n",
    "# plt.yticks(tick_marks, classes)\n",
    "\n",
    "\n",
    "print(cm)\n",
    "tick_marks = [0, 1, 2]\n",
    "classes = [\"1000\", \"2000\", \"3000\"]\n",
    "plt.xticks(tick_marks, classes, rotation=45, rotation_mode='anchor', ha = 'right')\n",
    "plt.yticks(tick_marks, classes)\n",
    "\n",
    "# thresh = cm.max() / 2.\n",
    "for i, j in itertools.product(range(3), range(3)):\n",
    "    plt.text(j, i, cm[i][j],\n",
    "                horizontalalignment=\"center\",\n",
    "                color=\"black\")# if cm[i][j] > 0.05 else \"black\")\n",
    "\n",
    "plt.ylabel('number of features')\n",
    "plt.xlabel('sample size')\n",
    "#plt.show()\n",
    "plt.savefig(\"error_rate.png\", bbox_inches = 'tight')"
   ]
  },
  {
   "cell_type": "code",
   "execution_count": 67,
   "metadata": {},
   "outputs": [
    {
     "name": "stdout",
     "output_type": "stream",
     "text": [
      "0.05078966259870783\n"
     ]
    }
   ],
   "source": [
    "(error_rate, errors) = evaluate4Fold(pred_by_fold10, folds)\n",
    "print(error_rate)"
   ]
  },
  {
   "cell_type": "code",
   "execution_count": 11,
   "metadata": {},
   "outputs": [
    {
     "name": "stdout",
     "output_type": "stream",
     "text": [
      "0.04289303661162958\n"
     ]
    }
   ],
   "source": [
    "(error_rate, errors) = evaluate4Fold(pred_by_fold11, folds)\n",
    "print(error_rate)"
   ]
  },
  {
   "cell_type": "code",
   "execution_count": 7,
   "metadata": {},
   "outputs": [
    {
     "name": "stdout",
     "output_type": "stream",
     "text": [
      "[[0.524, 0.507, 0.433]]\n"
     ]
    },
    {
     "data": {
      "image/png": "[encoded data removed]",
      "text/plain": [
       "<Figure size 432x288 with 1 Axes>"
      ]
     },
     "metadata": {
      "needs_background": "light"
     },
     "output_type": "display_data"
    }
   ],
   "source": [
    "cm = [[0.524, 0.507, 0.433]]\n",
    "plt.imshow(cm, cmap=plt.cm.Blues)\n",
    "plt.title(\"Error Rate for Hyperparameter Combinations\")\n",
    "# plt.colorbar()\n",
    "classes = ['1000', '2000', '3000']\n",
    "# plt.xticks(tick_marks, classes, rotation=45, rotation_mode='anchor', ha = 'right')\n",
    "# plt.yticks(tick_marks, classes)\n",
    "\n",
    "\n",
    "print(cm)\n",
    "tick_marks = [0, 1, 2]\n",
    "tree_size = [\"10\", \"20\", \"50\"]\n",
    "plt.xticks(tick_marks, tree_size, rotation=45, rotation_mode='anchor', ha = 'right')\n",
    "plt.yticks([0], [\"3000, 1000\"])\n",
    "\n",
    "# thresh = cm.max() / 2.\n",
    "for i, j in itertools.product([0], range(3)):\n",
    "    plt.text(j, i, cm[i][j],\n",
    "                horizontalalignment=\"center\",\n",
    "                color=\"black\")# if cm[i][j] > 0.05 else \"black\")\n",
    "\n",
    "plt.ylabel('number of features, sample size')\n",
    "plt.xlabel('number of trees')\n",
    "#plt.show()\n",
    "plt.savefig(\"error_rate2.png\", bbox_inches = 'tight')"
   ]
  },
  {
   "cell_type": "code",
   "execution_count": 21,
   "metadata": {},
   "outputs": [
    {
     "name": "stdout",
     "output_type": "stream",
     "text": [
      "Confusion matrix, without normalization\n",
      "[[1211    0]\n",
      " [ 136   46]]\n"
     ]
    },
    {
     "data": {
      "image/png": "[encoded data removed]",
      "text/plain": [
       "<Figure size 432x288 with 2 Axes>"
      ]
     },
     "metadata": {
      "needs_background": "light"
     },
     "output_type": "display_data"
    }
   ],
   "source": [
    "from sklearn.metrics import confusion_matrix\n",
    "import numpy as np\n",
    "import itertools\n",
    "import matplotlib.pyplot as plt\n",
    "%matplotlib inline\n",
    "def plot_confusion_matrix(name, cm, classes,\n",
    "                          normalize=False,\n",
    "                          title='Confusion matrix',\n",
    "                          cmap=plt.cm.Blues):\n",
    "    \"\"\"\n",
    "    This function prints and plots the confusion matrix.\n",
    "    Normalization can be applied by setting `normalize=True`.\n",
    "    \"\"\"\n",
    "    plt.imshow(cm, interpolation='nearest', cmap=cmap)\n",
    "    plt.title(title)\n",
    "    plt.colorbar()\n",
    "    tick_marks = np.arange(len(classes))\n",
    "    plt.xticks(tick_marks, classes, rotation=45, rotation_mode='anchor', ha = 'right')\n",
    "    plt.yticks(tick_marks, classes)\n",
    "\n",
    "    if normalize:\n",
    "        cm = cm.astype('float') / cm.sum(axis=1)[:, np.newaxis]\n",
    "        print(\"Normalized confusion matrix\")\n",
    "    else:\n",
    "        print('Confusion matrix, without normalization')\n",
    "\n",
    "    print(cm)\n",
    "\n",
    "    thresh = cm.max() / 2.\n",
    "    for i, j in itertools.product(range(cm.shape[0]), range(cm.shape[1])):\n",
    "        plt.text(j, i, cm[i, j],\n",
    "                 horizontalalignment=\"center\",\n",
    "                 color=\"white\" if cm[i, j] > thresh else \"black\")\n",
    "\n",
    "    plt.ylabel('True label')\n",
    "    plt.xlabel('Predicted label')\n",
    "    plt.show()\n",
    "#     plt.savefig(\"confusion_matrix_for_\" + name + \".png\", bbox_inches = 'tight')\n",
    "    \n",
    "cnf_matrix = confusion_matrix(folds[3][3], pred_by_fold1[3])\n",
    "plot_confusion_matrix(\"random_forest_fold_4\", cnf_matrix, ['ham', 'spam'],\n",
    "                      title='Confusion matrix, without normalization')"
   ]
  },
  {
   "cell_type": "code",
   "execution_count": null,
   "metadata": {},
   "outputs": [],
   "source": []
  }
 ],
 "metadata": {
  "kernelspec": {
   "display_name": "Python 3",
   "language": "python",
   "name": "python3"
  },
  "language_info": {
   "codemirror_mode": {
    "name": "ipython",
    "version": 3
   },
   "file_extension": ".py",
   "mimetype": "text/x-python",
   "name": "python",
   "nbconvert_exporter": "python",
   "pygments_lexer": "ipython3",
   "version": "3.8.3"
  }
 },
 "nbformat": 4,
 "nbformat_minor": 4
}
